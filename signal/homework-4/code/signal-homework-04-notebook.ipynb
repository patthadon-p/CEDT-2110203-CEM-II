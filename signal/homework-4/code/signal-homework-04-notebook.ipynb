{
  "cells": [
    {
      "cell_type": "code",
      "execution_count": 1,
      "metadata": {
        "id": "NJJRGQUCEuNE"
      },
      "outputs": [],
      "source": [
        "import matplotlib.pyplot as plt\n",
        "import numpy as np"
      ]
    },
    {
      "cell_type": "markdown",
      "metadata": {
        "id": "ivdGvk07cCxn"
      },
      "source": [
        "## Problem 1\n",
        "Find the Fourier tranform of the following signals in terms of $X(j\\omega)$, the Fourier tranform of $x(t)$\n",
        "$ \\left( \\mathscr{F} \\left\\{ x(t) \\right\\} = X(j\\omega) \\right)  $\n",
        "\n",
        "1. $x(-t)$\n",
        "2. $x_e(t) = \\frac{x(t) + x(-t)}{2}$\n",
        "3. $x_o(t) = \\frac{x(t) - x(-t)}{2}$"
      ]
    },
    {
      "cell_type": "markdown",
      "metadata": {
        "id": "94hxliNP9MQH"
      },
      "source": [
        "## Problem 2\n",
        "Let $  \\mathscr{F} \\left\\{ x(t) \\right\\} = X(j\\omega) = \\textrm{rect} \\left[ (\\omega-1)/2\\right]  $. Find Fourier tranform of\n",
        "\n",
        "1. $x(-2t+4)$\n",
        "2. $(t-1)x(t-1)$\n",
        "3. $ t\\frac{dx(t)}{dt}$\n",
        "4. $ x(2t-1)\\exp[-j2t]$\n",
        "5. $ x(t)*x(t-1)$\n"
      ]
    },
    {
      "cell_type": "markdown",
      "metadata": {
        "id": "H3Wnb4mxDB1m"
      },
      "source": [
        "## Problem 3.1\n",
        "### Proof\n",
        "\n",
        "$ \\mathscr{F} \\left\\{ e^{-|t|} \\right\\} = \\mathscr{F} \\left\\{ exp(-|t|) \\right\\} = \\frac{2}{\\omega^2+1}$\n",
        "\n",
        "## Problem 3.2\n",
        "\n",
        "Using the outcome obtained in Problem 3.1, Find the Fourier Transform of the given equation.\n",
        "\n",
        "1. $\\frac{d}{dt} (e^{-|t|})$\n",
        "2. $ exp(3jt-|2t+2|)$\n",
        "2. $ \\frac{1}{2\\pi t^2 + 1}$\n"
      ]
    },
    {
      "cell_type": "markdown",
      "metadata": {
        "id": "DSVxufo09QW5"
      },
      "source": [
        "## Problem 4\n",
        "\n",
        "For each of the following Fourier transform ($X(j\\omega)$),\n",
        "use Fourier transform properties to determine the corresponding time-domain signal ($x(t)$)\n",
        "\n",
        "1. $X(j\\omega) = u(\\omega) - u(\\omega -2)$\n",
        "2. $X(j\\omega) = \\cos(2\\omega)\\sin \\left(\\frac{\\omega}{2} \\right)$"
      ]
    },
    {
      "cell_type": "markdown",
      "metadata": {
        "id": "J8MjLfhQ9UaR"
      },
      "source": [
        "## Problem 5\n",
        "\n",
        "Proof\n",
        "\n",
        "$\\int_{-\\infty}^{\\infty} {|x(t)|}^2 dt = \\frac{1}{2\\pi} \\int_{-\\infty}^{ \\infty } |X(j\\omega)|^2 d\\omega$"
      ]
    },
    {
      "cell_type": "markdown",
      "metadata": {
        "id": "nLl2dnq0dzL_"
      },
      "source": [
        "## Problem 6\n",
        "\n",
        "\n",
        "\n",
        "Determine a signal $x(t)$ which has its Fourier transform\n",
        "\n",
        "$X(j\\omega) = \\delta(\\omega)-\\delta(\\omega-a_0\\pi)-\\delta(\\omega-a_1)$\n",
        "\n",
        "and the impulse response in time-domain is  $h(t) = u(t) - u(t-2b_0)$\n",
        "\n",
        "\n",
        "\n",
        "1.   Show how to find $x(t)$ and determine whether it is periodic?\n",
        "2.   Show how to find $y(t) = x(t) * h(t) $ and determine whether it is periodic?\n",
        "\n",
        "Verify you results by sketching $x(t)$, $h(t)$, $y(t)$, $X(j\\omega)$, $H(j\\omega)$ and $Y(j\\omega)$. Note that for the complex number, plot only its magnitude.\n",
        "\n",
        "\n",
        "\n",
        "\n",
        "\n",
        "\n",
        "\n",
        "\n",
        "\n",
        "\n"
      ]
    }
  ],
  "metadata": {
    "colab": {
      "provenance": []
    },
    "kernelspec": {
      "display_name": ".venv",
      "language": "python",
      "name": "python3"
    },
    "language_info": {
      "codemirror_mode": {
        "name": "ipython",
        "version": 3
      },
      "file_extension": ".py",
      "mimetype": "text/x-python",
      "name": "python",
      "nbconvert_exporter": "python",
      "pygments_lexer": "ipython3",
      "version": "3.10.12"
    }
  },
  "nbformat": 4,
  "nbformat_minor": 0
}
